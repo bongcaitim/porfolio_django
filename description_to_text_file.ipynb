{
 "cells": [
  {
   "cell_type": "code",
   "execution_count": 1,
   "metadata": {},
   "outputs": [
    {
     "data": {
      "text/plain": [
       "Index(['Province Name', 'Province Summary'], dtype='object')"
      ]
     },
     "execution_count": 1,
     "metadata": {},
     "output_type": "execute_result"
    }
   ],
   "source": [
    "import pandas\n",
    "\n",
    "desc_file_path = r\"pfl_app\\media\\all_province_descriptions.xlsx\"\n",
    "desc_excel = pandas.read_excel(desc_file_path)\n",
    "\n",
    "desc_excel.columns"
   ]
  },
  {
   "cell_type": "code",
   "execution_count": null,
   "metadata": {},
   "outputs": [],
   "source": [
    "import os\n",
    "import subprocess\n",
    "\n",
    "venv_path = os.path.join(os.getcwd(), 'portfolio_env', 'Scripts', 'activate.bat')\n",
    "subprocess.run(venv_path, shell=True)\n",
    "!pip uninstall python-docx\n",
    "!pip install python-docx\n",
    "!pip install docx2pdf"
   ]
  },
  {
   "cell_type": "code",
   "execution_count": 20,
   "metadata": {},
   "outputs": [
    {
     "name": "stderr",
     "output_type": "stream",
     "text": [
      "c:\\Users\\DHA-VUONGHOANG\\AppData\\Local\\Programs\\Python\\Python313\\Lib\\site-packages\\tqdm\\auto.py:21: TqdmWarning: IProgress not found. Please update jupyter and ipywidgets. See https://ipywidgets.readthedocs.io/en/stable/user_install.html\n",
      "  from .autonotebook import tqdm as notebook_tqdm\n"
     ]
    },
    {
     "name": "stdout",
     "output_type": "stream",
     "text": [
      "Document saved at pfl_app\\static\\pfl_app\\assets\\province_descriptions.docx\n"
     ]
    },
    {
     "name": "stderr",
     "output_type": "stream",
     "text": [
      "100%|██████████| 1/1 [00:17<00:00, 17.87s/it]"
     ]
    },
    {
     "name": "stdout",
     "output_type": "stream",
     "text": [
      "PDF saved at pfl_app\\static\\pfl_app\\assets\\province_descriptions.pdf\n"
     ]
    },
    {
     "name": "stderr",
     "output_type": "stream",
     "text": [
      "\n"
     ]
    }
   ],
   "source": [
    "import os\n",
    "import pandas as pd\n",
    "from docx import Document\n",
    "from docx.shared import Pt\n",
    "from docx2pdf import convert\n",
    "\n",
    "# Define paths\n",
    "base_dir = os.path.join('pfl_app', 'media')\n",
    "desc_file_path = os.path.join(base_dir, 'all_province_descriptions.xlsx')\n",
    "\n",
    "# Load the Excel file\n",
    "desc_excel = pd.read_excel(desc_file_path)\n",
    "\n",
    "# Create a Word document\n",
    "doc = Document()\n",
    "\n",
    "# Iterate over the rows in the DataFrame\n",
    "for i, row in desc_excel.iterrows():\n",
    "    province_name = row['Province Name']\n",
    "    province_summary = row['Province Summary']\n",
    "    \n",
    "    # Add the province name as a numbered list item (Heading 1)\n",
    "    para = doc.add_paragraph(f\"Tỉnh thành {i + 1}) {province_name}\")\n",
    "    para.style = doc.styles['Heading 1']\n",
    "    para.style.font.size = Pt(18)  # Adjust to make 1.5 times bigger than normal content\n",
    "    \n",
    "    # Add the province summary as the content\n",
    "    summary_para = doc.add_paragraph(province_summary)\n",
    "    summary_para.style.font.size = Pt(12)  # Normal content size\n",
    "\n",
    "# Save the document\n",
    "output_dir = os.path.join('pfl_app', 'static', 'pfl_app', 'assets')\n",
    "output_path = os.path.join(output_dir, 'province_descriptions.docx')\n",
    "doc.save(output_path)\n",
    "\n",
    "print(f\"Document saved at {output_path}\")\n",
    "\n",
    "# Convert the Word document to a PDF\n",
    "pdf_output_path = os.path.join(output_dir, 'province_descriptions.pdf')\n",
    "convert(output_path, pdf_output_path)\n",
    "\n",
    "print(f\"PDF saved at {pdf_output_path}\")\n"
   ]
  }
 ],
 "metadata": {
  "kernelspec": {
   "display_name": "Python 3",
   "language": "python",
   "name": "python3"
  },
  "language_info": {
   "codemirror_mode": {
    "name": "ipython",
    "version": 3
   },
   "file_extension": ".py",
   "mimetype": "text/x-python",
   "name": "python",
   "nbconvert_exporter": "python",
   "pygments_lexer": "ipython3",
   "version": "3.13.1"
  }
 },
 "nbformat": 4,
 "nbformat_minor": 2
}
